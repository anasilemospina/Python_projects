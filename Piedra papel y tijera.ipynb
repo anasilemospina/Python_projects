{
 "cells": [
  {
   "cell_type": "code",
   "execution_count": 2,
   "metadata": {},
   "outputs": [
    {
     "name": "stdout",
     "output_type": "stream",
     "text": [
      "Es par\n"
     ]
    }
   ],
   "source": [
    "numero = int(input(\"Escribe un numero:\"))\n",
    "if numero % 2 == 0:\n",
    "    print(\"Es par\")\n",
    "else:\n",
    "    print(\"Es impar\")\n",
    "\n"
   ]
  },
  {
   "attachments": {},
   "cell_type": "markdown",
   "metadata": {},
   "source": [
    "Piedra, papel o tijera"
   ]
  },
  {
   "cell_type": "code",
   "execution_count": 5,
   "metadata": {},
   "outputs": [
    {
     "name": "stdout",
     "output_type": "stream",
     "text": [
      "Es un empate!\n"
     ]
    }
   ],
   "source": [
    "Usuario1= input(\"Escoge: piedra papel o tijera\")\n",
    "Usuario2= input(\"Escoge: piedra papel o tijera\")\n",
    "\n",
    "if Usuario1 == Usuario2:\n",
    "    print(\"Es un empate!\")\n",
    "\n",
    "elif Usuario1 == \"Piedra\":\n",
    "  if Usuario2 == \"tijera\":\n",
    "    print(\"Gano usuario 1\")\n",
    "  else:\n",
    "    print(\"gano usuario 2\")\n",
    "    \n",
    "elif Usuario1 == \"tijera\":\n",
    "  if Usuario2 == \"papel\":\n",
    "    print(\"Gano usuario 1\")\n",
    "  else:\n",
    "    print(\"gano usuario 2\")\n",
    "\n",
    "elif Usuario1 == \"Papel\":\n",
    "  if Usuario2 == \"piedra\":\n",
    "    print(\"Gano usuario 1\")\n",
    "else:\n",
    "    print(\"gano usuario 2\")\n"
   ]
  },
  {
   "attachments": {},
   "cell_type": "markdown",
   "metadata": {},
   "source": [
    "Piedra, papel o tijera (con minuscula lower)"
   ]
  },
  {
   "cell_type": "code",
   "execution_count": 6,
   "metadata": {},
   "outputs": [
    {
     "name": "stdout",
     "output_type": "stream",
     "text": [
      "Es un empate!\n"
     ]
    }
   ],
   "source": [
    "Usuario1= input(\"Escoge: piedra papel o tijera\")\n",
    "Usuario1 = Usuario1.lower()\n",
    "Usuario2= input(\"Escoge: piedra papel o tijera\")\n",
    "Usuario2 = Usuario2.lower()\n",
    "\n",
    "if Usuario1 == Usuario2:\n",
    "    print(\"Es un empate!\")\n",
    "\n",
    "elif Usuario1 == \"Piedra\":\n",
    "  if Usuario2 == \"tijera\":\n",
    "    print(\"Gano usuario 1\")\n",
    "  else:\n",
    "    print(\"gano usuario 2\")\n",
    "    \n",
    "elif Usuario1 == \"tijera\":\n",
    "  if Usuario2 == \"papel\":\n",
    "    print(\"Gano usuario 1\")\n",
    "  else:\n",
    "    print(\"gano usuario 2\")\n",
    "\n",
    "elif Usuario1 == \"Papel\":\n",
    "  if Usuario2 == \"piedra\":\n",
    "    print(\"Gano usuario 1\")\n",
    "else:\n",
    "    print(\"gano usuario 2\")"
   ]
  },
  {
   "cell_type": "code",
   "execution_count": 9,
   "metadata": {},
   "outputs": [
    {
     "name": "stdout",
     "output_type": "stream",
     "text": [
      "toto\n",
      "lucas\n",
      "lola\n"
     ]
    }
   ],
   "source": [
    "gatos = (\"toto\", \"lucas\", \"lola\")\n",
    "\n",
    "for gato in gatos:\n",
    "\tprint(gato)"
   ]
  }
 ],
 "metadata": {
  "kernelspec": {
   "display_name": "Python 3",
   "language": "python",
   "name": "python3"
  },
  "language_info": {
   "codemirror_mode": {
    "name": "ipython",
    "version": 3
   },
   "file_extension": ".py",
   "mimetype": "text/x-python",
   "name": "python",
   "nbconvert_exporter": "python",
   "pygments_lexer": "ipython3",
   "version": "3.11.1"
  },
  "orig_nbformat": 4,
  "vscode": {
   "interpreter": {
    "hash": "3dc85c0ac97146c183d3fecf1ae5bf7eaa26973c8c9cb18f5ef5669ab7957fa0"
   }
  }
 },
 "nbformat": 4,
 "nbformat_minor": 2
}
